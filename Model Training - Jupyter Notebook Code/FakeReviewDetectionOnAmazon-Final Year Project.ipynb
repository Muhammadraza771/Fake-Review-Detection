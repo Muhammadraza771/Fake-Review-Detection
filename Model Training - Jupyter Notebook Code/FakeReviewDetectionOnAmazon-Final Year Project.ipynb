{
 "cells": [
  {
   "cell_type": "markdown",
   "id": "9c459ed0",
   "metadata": {},
   "source": [
    "# Fake Review Detection on E-Commerce Websites  [Final Year Project]\n",
    "## Group Members : \n",
    "### Muhammad Raza - Parveen\n",
    "### Department : Software Engineering\n",
    "### Batch: Fall 2018"
   ]
  },
  {
   "cell_type": "markdown",
   "id": "441c7c03",
   "metadata": {},
   "source": [
    "<blockquote> 1. Importing Necessary Libraries and Loading Raw Dataset</blockquote>"
   ]
  },
  {
   "cell_type": "code",
   "execution_count": 1,
   "id": "35d2bcb4",
   "metadata": {},
   "outputs": [],
   "source": [
    "import pandas as pd\n",
    "import numpy as np\n",
    "import matplotlib.pyplot as plt\n",
    "import seaborn as sns\n",
    "import pickle\n",
    "from joblib import dump\n",
    "from sklearn.feature_extraction.text import TfidfVectorizer\n",
    "from sklearn.pipeline import Pipeline\n",
    "from sklearn.linear_model import LogisticRegression\n",
    "from sklearn import metrics\n",
    "\n",
    "\n",
    "dataset_one = pd.read_csv(\"/Users/muhammadraza/Desktop/original datasets/amazonreview_dataset1.csv\");\n",
    "\n"
   ]
  },
  {
   "cell_type": "markdown",
   "id": "5b0614a5",
   "metadata": {},
   "source": [
    "\n",
    "<blockquote> A dataset of approximetly 40,000 was used with equal distribution of Fake And Real Reviews Labelled CG (Computer Generated) - OR (Original) </blockquote>"
   ]
  },
  {
   "cell_type": "code",
   "execution_count": 2,
   "id": "09094c33",
   "metadata": {},
   "outputs": [
    {
     "data": {
      "text/html": [
       "<div>\n",
       "<style scoped>\n",
       "    .dataframe tbody tr th:only-of-type {\n",
       "        vertical-align: middle;\n",
       "    }\n",
       "\n",
       "    .dataframe tbody tr th {\n",
       "        vertical-align: top;\n",
       "    }\n",
       "\n",
       "    .dataframe thead th {\n",
       "        text-align: right;\n",
       "    }\n",
       "</style>\n",
       "<table border=\"1\" class=\"dataframe\">\n",
       "  <thead>\n",
       "    <tr style=\"text-align: right;\">\n",
       "      <th></th>\n",
       "      <th>label</th>\n",
       "      <th>text_</th>\n",
       "    </tr>\n",
       "  </thead>\n",
       "  <tbody>\n",
       "    <tr>\n",
       "      <th>0</th>\n",
       "      <td>CG</td>\n",
       "      <td>Love this!  Well made, sturdy, and very comfor...</td>\n",
       "    </tr>\n",
       "    <tr>\n",
       "      <th>1</th>\n",
       "      <td>CG</td>\n",
       "      <td>love it, a great upgrade from the original.  I...</td>\n",
       "    </tr>\n",
       "    <tr>\n",
       "      <th>2</th>\n",
       "      <td>CG</td>\n",
       "      <td>This pillow saved my back. I love the look and...</td>\n",
       "    </tr>\n",
       "    <tr>\n",
       "      <th>3</th>\n",
       "      <td>CG</td>\n",
       "      <td>Missing information on how to use it, but it i...</td>\n",
       "    </tr>\n",
       "    <tr>\n",
       "      <th>4</th>\n",
       "      <td>CG</td>\n",
       "      <td>Very nice set. Good quality. We have had the s...</td>\n",
       "    </tr>\n",
       "  </tbody>\n",
       "</table>\n",
       "</div>"
      ],
      "text/plain": [
       "  label                                              text_\n",
       "0    CG  Love this!  Well made, sturdy, and very comfor...\n",
       "1    CG  love it, a great upgrade from the original.  I...\n",
       "2    CG  This pillow saved my back. I love the look and...\n",
       "3    CG  Missing information on how to use it, but it i...\n",
       "4    CG  Very nice set. Good quality. We have had the s..."
      ]
     },
     "execution_count": 2,
     "metadata": {},
     "output_type": "execute_result"
    }
   ],
   "source": [
    "dataset_one[['label','text_']].head()"
   ]
  },
  {
   "cell_type": "markdown",
   "id": "59235c94",
   "metadata": {},
   "source": [
    "\n",
    "<blockquote> We perform tasks with two fields i.e. label [for Y-Labels] and text_ [ for X-Values] </blockquote>"
   ]
  },
  {
   "cell_type": "markdown",
   "id": "1f552282",
   "metadata": {},
   "source": [
    "## Changing Labels\n",
    "\n",
    "\n",
    "<blockquote> For our ease, we will change CG to Fake and OR to Real in the label column </blockquote>"
   ]
  },
  {
   "cell_type": "code",
   "execution_count": 3,
   "id": "f864972d",
   "metadata": {},
   "outputs": [
    {
     "data": {
      "text/html": [
       "<div>\n",
       "<style scoped>\n",
       "    .dataframe tbody tr th:only-of-type {\n",
       "        vertical-align: middle;\n",
       "    }\n",
       "\n",
       "    .dataframe tbody tr th {\n",
       "        vertical-align: top;\n",
       "    }\n",
       "\n",
       "    .dataframe thead th {\n",
       "        text-align: right;\n",
       "    }\n",
       "</style>\n",
       "<table border=\"1\" class=\"dataframe\">\n",
       "  <thead>\n",
       "    <tr style=\"text-align: right;\">\n",
       "      <th></th>\n",
       "      <th>label</th>\n",
       "      <th>text_</th>\n",
       "    </tr>\n",
       "  </thead>\n",
       "  <tbody>\n",
       "    <tr>\n",
       "      <th>0</th>\n",
       "      <td>FAKE</td>\n",
       "      <td>Love this!  Well made, sturdy, and very comfor...</td>\n",
       "    </tr>\n",
       "    <tr>\n",
       "      <th>1</th>\n",
       "      <td>FAKE</td>\n",
       "      <td>love it, a great upgrade from the original.  I...</td>\n",
       "    </tr>\n",
       "    <tr>\n",
       "      <th>2</th>\n",
       "      <td>FAKE</td>\n",
       "      <td>This pillow saved my back. I love the look and...</td>\n",
       "    </tr>\n",
       "    <tr>\n",
       "      <th>3</th>\n",
       "      <td>FAKE</td>\n",
       "      <td>Missing information on how to use it, but it i...</td>\n",
       "    </tr>\n",
       "    <tr>\n",
       "      <th>4</th>\n",
       "      <td>FAKE</td>\n",
       "      <td>Very nice set. Good quality. We have had the s...</td>\n",
       "    </tr>\n",
       "    <tr>\n",
       "      <th>5</th>\n",
       "      <td>FAKE</td>\n",
       "      <td>I WANTED DIFFERENT FLAVORS BUT THEY ARE NOT.</td>\n",
       "    </tr>\n",
       "    <tr>\n",
       "      <th>6</th>\n",
       "      <td>FAKE</td>\n",
       "      <td>They are the perfect touch for me and the only...</td>\n",
       "    </tr>\n",
       "    <tr>\n",
       "      <th>7</th>\n",
       "      <td>FAKE</td>\n",
       "      <td>These done fit well and look great.  I love th...</td>\n",
       "    </tr>\n",
       "    <tr>\n",
       "      <th>8</th>\n",
       "      <td>FAKE</td>\n",
       "      <td>Great big numbers &amp; easy to read, the only thi...</td>\n",
       "    </tr>\n",
       "    <tr>\n",
       "      <th>9</th>\n",
       "      <td>FAKE</td>\n",
       "      <td>My son loves this comforter and it is very wel...</td>\n",
       "    </tr>\n",
       "    <tr>\n",
       "      <th>10</th>\n",
       "      <td>FAKE</td>\n",
       "      <td>As advertised. 5th one I've had. The only prob...</td>\n",
       "    </tr>\n",
       "    <tr>\n",
       "      <th>11</th>\n",
       "      <td>FAKE</td>\n",
       "      <td>Very handy for one of my kids and the tools ar...</td>\n",
       "    </tr>\n",
       "    <tr>\n",
       "      <th>12</th>\n",
       "      <td>FAKE</td>\n",
       "      <td>Did someone say, \"Oriental for $60\"?  It is a ...</td>\n",
       "    </tr>\n",
       "    <tr>\n",
       "      <th>13</th>\n",
       "      <td>FAKE</td>\n",
       "      <td>These are so flimsy! They are not the quality ...</td>\n",
       "    </tr>\n",
       "    <tr>\n",
       "      <th>14</th>\n",
       "      <td>FAKE</td>\n",
       "      <td>Makes may tea with out stirring. The only prob...</td>\n",
       "    </tr>\n",
       "    <tr>\n",
       "      <th>15</th>\n",
       "      <td>FAKE</td>\n",
       "      <td>Absolutely adorable! And excellent price. We h...</td>\n",
       "    </tr>\n",
       "    <tr>\n",
       "      <th>16</th>\n",
       "      <td>FAKE</td>\n",
       "      <td>Love this!  Perfect size for an entire family!...</td>\n",
       "    </tr>\n",
       "    <tr>\n",
       "      <th>17</th>\n",
       "      <td>FAKE</td>\n",
       "      <td>These look beautiful and so nice. The only pro...</td>\n",
       "    </tr>\n",
       "    <tr>\n",
       "      <th>18</th>\n",
       "      <td>FAKE</td>\n",
       "      <td>Exactly what you would expect. I love the look...</td>\n",
       "    </tr>\n",
       "    <tr>\n",
       "      <th>19</th>\n",
       "      <td>FAKE</td>\n",
       "      <td>10 Stars, I would highly recommend this item. ...</td>\n",
       "    </tr>\n",
       "    <tr>\n",
       "      <th>20</th>\n",
       "      <td>FAKE</td>\n",
       "      <td>Great little egg masher.  We have had it for a...</td>\n",
       "    </tr>\n",
       "    <tr>\n",
       "      <th>21</th>\n",
       "      <td>FAKE</td>\n",
       "      <td>As advertised.  Easy to use.  Love the colors....</td>\n",
       "    </tr>\n",
       "    <tr>\n",
       "      <th>22</th>\n",
       "      <td>FAKE</td>\n",
       "      <td>it is exactly as pictured. I love the look and...</td>\n",
       "    </tr>\n",
       "    <tr>\n",
       "      <th>23</th>\n",
       "      <td>FAKE</td>\n",
       "      <td>Fantastic, just what I wanted!!!  I love the l...</td>\n",
       "    </tr>\n",
       "    <tr>\n",
       "      <th>24</th>\n",
       "      <td>FAKE</td>\n",
       "      <td>Supposed to come with extra hardware. The only...</td>\n",
       "    </tr>\n",
       "    <tr>\n",
       "      <th>25</th>\n",
       "      <td>FAKE</td>\n",
       "      <td>Easy to use. Seems to be an easy way to make a...</td>\n",
       "    </tr>\n",
       "    <tr>\n",
       "      <th>26</th>\n",
       "      <td>FAKE</td>\n",
       "      <td>Not what I am accustomed to. The only reason I...</td>\n",
       "    </tr>\n",
       "    <tr>\n",
       "      <th>27</th>\n",
       "      <td>FAKE</td>\n",
       "      <td>Nice product &amp; seller. Yes, it is a very thin ...</td>\n",
       "    </tr>\n",
       "    <tr>\n",
       "      <th>28</th>\n",
       "      <td>FAKE</td>\n",
       "      <td>So good we bought the second set and they look...</td>\n",
       "    </tr>\n",
       "    <tr>\n",
       "      <th>29</th>\n",
       "      <td>FAKE</td>\n",
       "      <td>Wonderful aroma throughout the house.  The onl...</td>\n",
       "    </tr>\n",
       "    <tr>\n",
       "      <th>...</th>\n",
       "      <td>...</td>\n",
       "      <td>...</td>\n",
       "    </tr>\n",
       "    <tr>\n",
       "      <th>40402</th>\n",
       "      <td>FAKE</td>\n",
       "      <td>These are a bucket list of things you want to ...</td>\n",
       "    </tr>\n",
       "    <tr>\n",
       "      <th>40403</th>\n",
       "      <td>REAL</td>\n",
       "      <td>I am absolutely blown away by these pearls. I ...</td>\n",
       "    </tr>\n",
       "    <tr>\n",
       "      <th>40404</th>\n",
       "      <td>FAKE</td>\n",
       "      <td>Teva's Dozer shoes are, far from the best qual...</td>\n",
       "    </tr>\n",
       "    <tr>\n",
       "      <th>40405</th>\n",
       "      <td>REAL</td>\n",
       "      <td>This skirt runs small. it is listed as a size ...</td>\n",
       "    </tr>\n",
       "    <tr>\n",
       "      <th>40406</th>\n",
       "      <td>FAKE</td>\n",
       "      <td>Just got these in the mail a couple of days ag...</td>\n",
       "    </tr>\n",
       "    <tr>\n",
       "      <th>40407</th>\n",
       "      <td>REAL</td>\n",
       "      <td>I have three dogs, and I am constantly hiking....</td>\n",
       "    </tr>\n",
       "    <tr>\n",
       "      <th>40408</th>\n",
       "      <td>FAKE</td>\n",
       "      <td>My old bet was wearing this to the Macy's in J...</td>\n",
       "    </tr>\n",
       "    <tr>\n",
       "      <th>40409</th>\n",
       "      <td>REAL</td>\n",
       "      <td>This is a lovely watch, and dressier than it l...</td>\n",
       "    </tr>\n",
       "    <tr>\n",
       "      <th>40410</th>\n",
       "      <td>FAKE</td>\n",
       "      <td>There are certain things in this shoe that are...</td>\n",
       "    </tr>\n",
       "    <tr>\n",
       "      <th>40411</th>\n",
       "      <td>REAL</td>\n",
       "      <td>I am extremely large-busted and was in search ...</td>\n",
       "    </tr>\n",
       "    <tr>\n",
       "      <th>40412</th>\n",
       "      <td>FAKE</td>\n",
       "      <td>OMG, First reason why I chose this style is be...</td>\n",
       "    </tr>\n",
       "    <tr>\n",
       "      <th>40413</th>\n",
       "      <td>REAL</td>\n",
       "      <td>The cold damp fog tries to grab at my ankles a...</td>\n",
       "    </tr>\n",
       "    <tr>\n",
       "      <th>40414</th>\n",
       "      <td>FAKE</td>\n",
       "      <td>First off I returned this pair. The quality is...</td>\n",
       "    </tr>\n",
       "    <tr>\n",
       "      <th>40415</th>\n",
       "      <td>REAL</td>\n",
       "      <td>I'd consider myself an advanced non-profession...</td>\n",
       "    </tr>\n",
       "    <tr>\n",
       "      <th>40416</th>\n",
       "      <td>FAKE</td>\n",
       "      <td>When I saw this ring, I thought it was very be...</td>\n",
       "    </tr>\n",
       "    <tr>\n",
       "      <th>40417</th>\n",
       "      <td>REAL</td>\n",
       "      <td>I cannot thank my boss enough for recommending...</td>\n",
       "    </tr>\n",
       "    <tr>\n",
       "      <th>40418</th>\n",
       "      <td>FAKE</td>\n",
       "      <td>This bag weighs exactly 10pounds (I wear an XL...</td>\n",
       "    </tr>\n",
       "    <tr>\n",
       "      <th>40419</th>\n",
       "      <td>REAL</td>\n",
       "      <td>Sometimes it is so hard to find a loose comfor...</td>\n",
       "    </tr>\n",
       "    <tr>\n",
       "      <th>40420</th>\n",
       "      <td>FAKE</td>\n",
       "      <td>I just bought these locally and they are the b...</td>\n",
       "    </tr>\n",
       "    <tr>\n",
       "      <th>40421</th>\n",
       "      <td>REAL</td>\n",
       "      <td>I'm a 36B, which means that I don't need any h...</td>\n",
       "    </tr>\n",
       "    <tr>\n",
       "      <th>40422</th>\n",
       "      <td>FAKE</td>\n",
       "      <td>I wore this from 4pm to 9pm and it was perfect...</td>\n",
       "    </tr>\n",
       "    <tr>\n",
       "      <th>40423</th>\n",
       "      <td>REAL</td>\n",
       "      <td>This is a classy looking watch.  I don't get m...</td>\n",
       "    </tr>\n",
       "    <tr>\n",
       "      <th>40424</th>\n",
       "      <td>FAKE</td>\n",
       "      <td>I kind of feel giving it a 3 star because it's...</td>\n",
       "    </tr>\n",
       "    <tr>\n",
       "      <th>40425</th>\n",
       "      <td>REAL</td>\n",
       "      <td>The stated dimensions on the description are o...</td>\n",
       "    </tr>\n",
       "    <tr>\n",
       "      <th>40426</th>\n",
       "      <td>FAKE</td>\n",
       "      <td>Overall, I love this hat!\\n\\nSize/Color:  9.5/...</td>\n",
       "    </tr>\n",
       "    <tr>\n",
       "      <th>40427</th>\n",
       "      <td>REAL</td>\n",
       "      <td>I had read some reviews saying that this bra r...</td>\n",
       "    </tr>\n",
       "    <tr>\n",
       "      <th>40428</th>\n",
       "      <td>FAKE</td>\n",
       "      <td>I wasn't sure exactly what it would be. It is ...</td>\n",
       "    </tr>\n",
       "    <tr>\n",
       "      <th>40429</th>\n",
       "      <td>REAL</td>\n",
       "      <td>You can wear the hood by itself, wear it with ...</td>\n",
       "    </tr>\n",
       "    <tr>\n",
       "      <th>40430</th>\n",
       "      <td>FAKE</td>\n",
       "      <td>I liked nothing about this dress. The only rea...</td>\n",
       "    </tr>\n",
       "    <tr>\n",
       "      <th>40431</th>\n",
       "      <td>REAL</td>\n",
       "      <td>I work in the wedding industry and have to wor...</td>\n",
       "    </tr>\n",
       "  </tbody>\n",
       "</table>\n",
       "<p>40432 rows × 2 columns</p>\n",
       "</div>"
      ],
      "text/plain": [
       "      label                                              text_\n",
       "0      FAKE  Love this!  Well made, sturdy, and very comfor...\n",
       "1      FAKE  love it, a great upgrade from the original.  I...\n",
       "2      FAKE  This pillow saved my back. I love the look and...\n",
       "3      FAKE  Missing information on how to use it, but it i...\n",
       "4      FAKE  Very nice set. Good quality. We have had the s...\n",
       "5      FAKE       I WANTED DIFFERENT FLAVORS BUT THEY ARE NOT.\n",
       "6      FAKE  They are the perfect touch for me and the only...\n",
       "7      FAKE  These done fit well and look great.  I love th...\n",
       "8      FAKE  Great big numbers & easy to read, the only thi...\n",
       "9      FAKE  My son loves this comforter and it is very wel...\n",
       "10     FAKE  As advertised. 5th one I've had. The only prob...\n",
       "11     FAKE  Very handy for one of my kids and the tools ar...\n",
       "12     FAKE  Did someone say, \"Oriental for $60\"?  It is a ...\n",
       "13     FAKE  These are so flimsy! They are not the quality ...\n",
       "14     FAKE  Makes may tea with out stirring. The only prob...\n",
       "15     FAKE  Absolutely adorable! And excellent price. We h...\n",
       "16     FAKE  Love this!  Perfect size for an entire family!...\n",
       "17     FAKE  These look beautiful and so nice. The only pro...\n",
       "18     FAKE  Exactly what you would expect. I love the look...\n",
       "19     FAKE  10 Stars, I would highly recommend this item. ...\n",
       "20     FAKE  Great little egg masher.  We have had it for a...\n",
       "21     FAKE  As advertised.  Easy to use.  Love the colors....\n",
       "22     FAKE  it is exactly as pictured. I love the look and...\n",
       "23     FAKE  Fantastic, just what I wanted!!!  I love the l...\n",
       "24     FAKE  Supposed to come with extra hardware. The only...\n",
       "25     FAKE  Easy to use. Seems to be an easy way to make a...\n",
       "26     FAKE  Not what I am accustomed to. The only reason I...\n",
       "27     FAKE  Nice product & seller. Yes, it is a very thin ...\n",
       "28     FAKE  So good we bought the second set and they look...\n",
       "29     FAKE  Wonderful aroma throughout the house.  The onl...\n",
       "...     ...                                                ...\n",
       "40402  FAKE  These are a bucket list of things you want to ...\n",
       "40403  REAL  I am absolutely blown away by these pearls. I ...\n",
       "40404  FAKE  Teva's Dozer shoes are, far from the best qual...\n",
       "40405  REAL  This skirt runs small. it is listed as a size ...\n",
       "40406  FAKE  Just got these in the mail a couple of days ag...\n",
       "40407  REAL  I have three dogs, and I am constantly hiking....\n",
       "40408  FAKE  My old bet was wearing this to the Macy's in J...\n",
       "40409  REAL  This is a lovely watch, and dressier than it l...\n",
       "40410  FAKE  There are certain things in this shoe that are...\n",
       "40411  REAL  I am extremely large-busted and was in search ...\n",
       "40412  FAKE  OMG, First reason why I chose this style is be...\n",
       "40413  REAL  The cold damp fog tries to grab at my ankles a...\n",
       "40414  FAKE  First off I returned this pair. The quality is...\n",
       "40415  REAL  I'd consider myself an advanced non-profession...\n",
       "40416  FAKE  When I saw this ring, I thought it was very be...\n",
       "40417  REAL  I cannot thank my boss enough for recommending...\n",
       "40418  FAKE  This bag weighs exactly 10pounds (I wear an XL...\n",
       "40419  REAL  Sometimes it is so hard to find a loose comfor...\n",
       "40420  FAKE  I just bought these locally and they are the b...\n",
       "40421  REAL  I'm a 36B, which means that I don't need any h...\n",
       "40422  FAKE  I wore this from 4pm to 9pm and it was perfect...\n",
       "40423  REAL  This is a classy looking watch.  I don't get m...\n",
       "40424  FAKE  I kind of feel giving it a 3 star because it's...\n",
       "40425  REAL  The stated dimensions on the description are o...\n",
       "40426  FAKE  Overall, I love this hat!\\n\\nSize/Color:  9.5/...\n",
       "40427  REAL  I had read some reviews saying that this bra r...\n",
       "40428  FAKE  I wasn't sure exactly what it would be. It is ...\n",
       "40429  REAL  You can wear the hood by itself, wear it with ...\n",
       "40430  FAKE  I liked nothing about this dress. The only rea...\n",
       "40431  REAL  I work in the wedding industry and have to wor...\n",
       "\n",
       "[40432 rows x 2 columns]"
      ]
     },
     "execution_count": 3,
     "metadata": {},
     "output_type": "execute_result"
    }
   ],
   "source": [
    "dataset_one['label'] = np.where(dataset_one['label'] == 'CG', 'FAKE', dataset_one['label'])\n",
    "dataset_one['label'] = np.where(dataset_one['label'] == 'OR', 'REAL', dataset_one['label'])\n",
    "dataset_one[['label','text_']]"
   ]
  },
  {
   "cell_type": "markdown",
   "id": "330a2f51",
   "metadata": {},
   "source": [
    "#### Dataset Equal Distribution of both classes\n",
    "\n",
    "<blockquote> For Training an accurate classifier that performs well, a dataset should be equally distributed into said classes. The dataset that we are using has equal distribution as shown in Barchart Below. </blockquote>"
   ]
  },
  {
   "cell_type": "code",
   "execution_count": 4,
   "id": "f47faf79",
   "metadata": {},
   "outputs": [
    {
     "data": {
      "text/plain": [
       "FAKE    20216\n",
       "REAL    20216\n",
       "Name: label, dtype: int64"
      ]
     },
     "execution_count": 4,
     "metadata": {},
     "output_type": "execute_result"
    }
   ],
   "source": [
    "dataset_one['label'].value_counts()"
   ]
  },
  {
   "cell_type": "code",
   "execution_count": 5,
   "id": "352079d7",
   "metadata": {},
   "outputs": [
    {
     "data": {
      "text/plain": [
       "<matplotlib.axes._subplots.AxesSubplot at 0x7fefe1217090>"
      ]
     },
     "execution_count": 5,
     "metadata": {},
     "output_type": "execute_result"
    },
    {
     "data": {
      "image/png": "[encoded data removed]",
      "text/plain": [
       "<Figure size 432x288 with 1 Axes>"
      ]
     },
     "metadata": {
      "needs_background": "light"
     },
     "output_type": "display_data"
    }
   ],
   "source": [
    "sns.barplot(\n",
    "            x = ['Real Reviews','Fake Reviews']\n",
    "            ,y = [20216,20216]\n",
    "            )"
   ]
  },
  {
   "cell_type": "markdown",
   "id": "a47104b1",
   "metadata": {},
   "source": [
    "### Spliting Dataset into Train-Test Set.\n",
    "\n",
    "<blockquote> For this purpose, the dataset is then splitted into two separate datasets named\n",
    "   <br> <b> Training Set having X_train and y_train  </b> <br ><b>Testing Set having X_test and y_test </b> </blockquote>\n",
    "   \n",
    "   <blockquote> Note: Only 20% Dataset is used for Testing purposes hence test_size=0.20 </blockquote>"
   ]
  },
  {
   "cell_type": "code",
   "execution_count": 6,
   "id": "625c0697",
   "metadata": {},
   "outputs": [],
   "source": [
    "from sklearn.model_selection import train_test_split\n",
    "X = dataset_one['text_']\n",
    "y = dataset_one['label']\n",
    "X_train, X_test , y_train , y_test = train_test_split(X,y, test_size = 0.20, random_state = 42)\n"
   ]
  },
  {
   "cell_type": "code",
   "execution_count": null,
   "id": "d011c5a4",
   "metadata": {},
   "outputs": [],
   "source": []
  },
  {
   "cell_type": "markdown",
   "id": "7f9d995c",
   "metadata": {},
   "source": [
    "## Training First Classifier - Logistic Regression\n",
    "\n",
    "<blockquote> For our first classifier we chose Logistic Regression \n",
    "    <br> But before that, it is a good practice to create a <b> Pipeline </b> object for ourselves it can significantly reduce the lines of code written for <b> Feature Extraction and Model-Fitting </b> <br>The motivation behind a pipeline is to permit you to expand the iteration cycle with the additional certainty that writing the code the interaction gives and to scale the number of models you can maintain <br> <br> <b> Feature Extraction: </b> It is the process of extracting meaningful data from the dataset that can be used to train the model for future predictions <br> <br> <b>Why TF-IDF </b> [ Term Frequency - Inverse Document Frequency]? <br> a statistical measure that evaluates how relevant a word is to a document in a collection of documents. This is done by multiplying two metrics: <b> how many times a word appears </b> in a document, and the inverse document frequency of the word across a set of documents. <br> <br> <b> TF-IDF Parameters </b> <br> N-Grams can be described as a sequence of N-Words or sequence of words in a document that the feature extraction method considers. We used <b> Unigrams (1) and Bigrams (2)</b> as it improves the model's accuracy. Furthermore, considering our dataset, limiting maximum features to 25,000 has improved the model's performance.\n",
    "</blockquote>\n",
    "\n",
    "\n",
    "<blockquote> <b> Classification Report </b> is a report of overall performance of the trained model <br> <ul>\n",
    "    <li> <b>Precision :</b> <i> The quality of a positive prediction made by the model</i> </li>\n",
    "    <li> <b>Recall :</b> <i>How many of the true positives were recalled</i></li>\n",
    "    <li><b>F1-Score :</b> <i>F1 Score is the weighted average of Precision and Recall.</i></li>\n",
    "</ul>\n",
    "</blockquote>\n",
    "\n",
    "\n",
    "<blockquote> <b> Confusion Matrix </b> is a matrix for evaluating how many correct and wrong predictions the model has made\n",
    "</blockquote>\n"
   ]
  },
  {
   "cell_type": "code",
   "execution_count": 7,
   "id": "62d9ae4f",
   "metadata": {},
   "outputs": [
    {
     "name": "stdout",
     "output_type": "stream",
     "text": [
      "              precision    recall  f1-score   support\n",
      "\n",
      "        FAKE       0.94      0.92      0.93      4016\n",
      "        REAL       0.92      0.94      0.93      4071\n",
      "\n",
      "    accuracy                           0.93      8087\n",
      "   macro avg       0.93      0.93      0.93      8087\n",
      "weighted avg       0.93      0.93      0.93      8087\n",
      "\n",
      "CPU times: user 11.4 s, sys: 514 ms, total: 11.9 s\n",
      "Wall time: 13.9 s\n"
     ]
    }
   ],
   "source": [
    "%%time\n",
    "classifierOne = Pipeline([('tfidf',TfidfVectorizer(ngram_range=(1,2),max_features=25000)),('clf',LogisticRegression(solver='lbfgs',max_iter=500))])\n",
    "classifierOne.fit(X_train,y_train)\n",
    "predictionsLR = classifierOne.predict(X_test)\n",
    "from sklearn.metrics import confusion_matrix,classification_report\n",
    "print(classification_report(y_test,predictionsLR))"
   ]
  },
  {
   "cell_type": "markdown",
   "id": "0ed70730",
   "metadata": {},
   "source": [
    "### Saving the trained model on the disk for later use.\n",
    "\n",
    "<blockquote> <b> Pickle Library </b> helps saving a trained model on the disk  </blockquote>"
   ]
  },
  {
   "cell_type": "code",
   "execution_count": 8,
   "id": "64313ac2",
   "metadata": {},
   "outputs": [],
   "source": [
    "filename = 'finalized_modelLogisticRegression.sav'\n",
    "pickle.dump(classifierOne, open(filename, 'wb'))"
   ]
  },
  {
   "cell_type": "code",
   "execution_count": 9,
   "id": "1e1767be",
   "metadata": {},
   "outputs": [
    {
     "data": {
      "text/plain": [
       "(array([0.5, 1.5]), <a list of 2 Text yticklabel objects>)"
      ]
     },
     "execution_count": 9,
     "metadata": {},
     "output_type": "execute_result"
    },
    {
     "data": {
      "image/png": "[encoded data removed]",
      "text/plain": [
       "<Figure size 432x288 with 1 Axes>"
      ]
     },
     "metadata": {
      "needs_background": "light"
     },
     "output_type": "display_data"
    }
   ],
   "source": [
    "\n",
    "\n",
    "classes = np.unique(y_test)\n",
    "y_test_array = pd.get_dummies(y_test, drop_first=False).values\n",
    "\n",
    "\n",
    "cm = metrics.confusion_matrix(y_test, predictionsLR)\n",
    "fig, ax = plt.subplots()\n",
    "sns.heatmap(cm, annot=True, fmt='d', ax=ax, cmap=plt.cm.Blues, \n",
    "            cbar=False)\n",
    "ax.set(xlabel=\"Predictions\", ylabel=\"True\", xticklabels=classes, \n",
    "       yticklabels=classes, title=\"Confusion matrix\")\n",
    "plt.yticks(rotation=0)\n"
   ]
  },
  {
   "cell_type": "code",
   "execution_count": 10,
   "id": "92a474ce",
   "metadata": {},
   "outputs": [
    {
     "data": {
      "text/plain": [
       "0.9305057499690862"
      ]
     },
     "execution_count": 10,
     "metadata": {},
     "output_type": "execute_result"
    }
   ],
   "source": [
    "metrics.accuracy_score(y_test,predictionsLR)"
   ]
  },
  {
   "cell_type": "markdown",
   "id": "af13a1a9",
   "metadata": {},
   "source": [
    "## Logistic Regression Accuracy  93%"
   ]
  },
  {
   "cell_type": "code",
   "execution_count": 11,
   "id": "8d7b613b",
   "metadata": {},
   "outputs": [
    {
     "data": {
      "image/png": "[encoded data removed]",
      "text/plain": [
       "<Figure size 432x288 with 1 Axes>"
      ]
     },
     "metadata": {
      "needs_background": "light"
     },
     "output_type": "display_data"
    }
   ],
   "source": [
    "predicted_prob = classifierOne.predict_proba(X_test)\n",
    "\n",
    "for i in range(len(classes)):\n",
    "    fpr, tpr, thresholds = metrics.roc_curve(y_test_array[:,i],  \n",
    "                           predicted_prob[:,i])\n",
    "  \n",
    "roc_auc = metrics.auc(fpr, tpr)\n",
    "\n",
    "plt.title('ROC Curve')\n",
    "plt.plot(fpr, tpr, 'b', label = 'AUC = %0.2f' % roc_auc)\n",
    "plt.legend(loc = 'lower right')\n",
    "plt.plot([0, 1], [0, 1],'r--')\n",
    "plt.xlim([0, 1])\n",
    "plt.ylim([0, 1])\n",
    "plt.ylabel('True Positive Rate')\n",
    "plt.xlabel('False Positive Rate')\n",
    "plt.show()"
   ]
  },
  {
   "cell_type": "markdown",
   "id": "6d44d830",
   "metadata": {},
   "source": [
    "## Training Second Classifier - Naive Bayes\n",
    "\n",
    "<blockquote> probabilistic classifier based on applying Bayes' theorem with strong (naive) independence assumptions between the features <br>\n",
    "  P (A|B)  = P (B|A) . P(A) / P(B) \n",
    "  <br>\n",
    "    \n",
    "</blockquote>\n",
    "\n"
   ]
  },
  {
   "cell_type": "code",
   "execution_count": 12,
   "id": "94915ec8",
   "metadata": {},
   "outputs": [
    {
     "name": "stdout",
     "output_type": "stream",
     "text": [
      "              precision    recall  f1-score   support\n",
      "\n",
      "        FAKE       0.89      0.92      0.91      4016\n",
      "        REAL       0.92      0.89      0.90      4071\n",
      "\n",
      "    accuracy                           0.91      8087\n",
      "   macro avg       0.91      0.91      0.91      8087\n",
      "weighted avg       0.91      0.91      0.91      8087\n",
      "\n",
      "CPU times: user 6.84 s, sys: 211 ms, total: 7.05 s\n",
      "Wall time: 6.95 s\n"
     ]
    }
   ],
   "source": [
    "%%time\n",
    "from sklearn.naive_bayes import MultinomialNB\n",
    "classifierThree = Pipeline([('tfidf',TfidfVectorizer(ngram_range=(1,2),max_features=25000)),('clf',MultinomialNB())])\n",
    "classifierThree.fit(X_train,y_train)\n",
    "NBPred = classifierThree.predict(X_test)\n",
    "print(classification_report(y_test,NBPred))\n"
   ]
  },
  {
   "cell_type": "code",
   "execution_count": 13,
   "id": "da497226",
   "metadata": {},
   "outputs": [],
   "source": [
    "filename2 = 'finalized_modelNaiveBayes.sav'\n",
    "pickle.dump(classifierThree, open(filename2, 'wb'))"
   ]
  },
  {
   "cell_type": "code",
   "execution_count": 14,
   "id": "8cbe3483",
   "metadata": {},
   "outputs": [
    {
     "data": {
      "text/plain": [
       "0.9051564238901941"
      ]
     },
     "execution_count": 14,
     "metadata": {},
     "output_type": "execute_result"
    }
   ],
   "source": [
    "metrics.accuracy_score(y_test,NBPred)"
   ]
  },
  {
   "cell_type": "code",
   "execution_count": 15,
   "id": "7ea4fb2c",
   "metadata": {},
   "outputs": [
    {
     "data": {
      "text/plain": [
       "(array([0.5, 1.5]), <a list of 2 Text yticklabel objects>)"
      ]
     },
     "execution_count": 15,
     "metadata": {},
     "output_type": "execute_result"
    },
    {
     "data": {
      "image/png": "[encoded data removed]",
      "text/plain": [
       "<Figure size 432x288 with 1 Axes>"
      ]
     },
     "metadata": {
      "needs_background": "light"
     },
     "output_type": "display_data"
    }
   ],
   "source": [
    "classes = np.unique(y_test)\n",
    "y_test_array2 = pd.get_dummies(y_test, drop_first=False).values\n",
    "\n",
    "\n",
    "cm = metrics.confusion_matrix(y_test, NBPred)\n",
    "fig, ax = plt.subplots()\n",
    "sns.heatmap(cm, annot=True, fmt='d', ax=ax, cmap=plt.cm.Blues, \n",
    "            cbar=False)\n",
    "ax.set(xlabel=\"Predictions\", ylabel=\"True\", xticklabels=classes, \n",
    "       yticklabels=classes, title=\"Confusion matrix\")\n",
    "plt.yticks(rotation=0)\n"
   ]
  },
  {
   "cell_type": "code",
   "execution_count": 16,
   "id": "943b59d5",
   "metadata": {},
   "outputs": [
    {
     "data": {
      "image/png": "[encoded data removed]",
      "text/plain": [
       "<Figure size 432x288 with 1 Axes>"
      ]
     },
     "metadata": {
      "needs_background": "light"
     },
     "output_type": "display_data"
    }
   ],
   "source": [
    "predicted_prob2 = classifierThree.predict_proba(X_test)\n",
    "\n",
    "for i in range(len(classes)):\n",
    "    fpr2, tpr2, thresholds2 = metrics.roc_curve(y_test_array2[:,i],  \n",
    "                           predicted_prob2[:,i])\n",
    "  \n",
    "roc_auc2 = metrics.auc(fpr2, tpr2)\n",
    "\n",
    "plt.title('ROC Curve')\n",
    "plt.plot(fpr, tpr, 'b', label = 'LR AUC = %0.2f' % roc_auc)\n",
    "plt.plot(fpr2, tpr2, 'c', label = 'NB AUC = %0.2f' % roc_auc2)\n",
    "plt.legend(loc = 'lower right')\n",
    "plt.plot([0, 1], [0, 1],'r--')\n",
    "plt.xlim([0, 1])\n",
    "plt.ylim([0, 1])\n",
    "plt.ylabel('True Positive Rate')\n",
    "plt.xlabel('False Positive Rate')\n",
    "plt.show()"
   ]
  },
  {
   "cell_type": "code",
   "execution_count": null,
   "id": "036f3ecb",
   "metadata": {},
   "outputs": [],
   "source": []
  },
  {
   "cell_type": "code",
   "execution_count": null,
   "id": "02c7d993",
   "metadata": {},
   "outputs": [],
   "source": []
  },
  {
   "cell_type": "code",
   "execution_count": null,
   "id": "ed3dc845",
   "metadata": {},
   "outputs": [],
   "source": []
  },
  {
   "cell_type": "code",
   "execution_count": null,
   "id": "c042b2de",
   "metadata": {},
   "outputs": [],
   "source": []
  },
  {
   "cell_type": "code",
   "execution_count": null,
   "id": "c9e4cdf9",
   "metadata": {},
   "outputs": [],
   "source": []
  },
  {
   "cell_type": "code",
   "execution_count": 17,
   "id": "ec3fca9e",
   "metadata": {},
   "outputs": [
    {
     "name": "stdout",
     "output_type": "stream",
     "text": [
      "              precision    recall  f1-score   support\n",
      "\n",
      "        FAKE       0.94      0.93      0.94      4016\n",
      "        REAL       0.94      0.95      0.94      4071\n",
      "\n",
      "    accuracy                           0.94      8087\n",
      "   macro avg       0.94      0.94      0.94      8087\n",
      "weighted avg       0.94      0.94      0.94      8087\n",
      "\n",
      "CPU times: user 34min 12s, sys: 11.4 s, total: 34min 23s\n",
      "Wall time: 34min 58s\n"
     ]
    }
   ],
   "source": [
    "%%time\n",
    "from sklearn.svm import SVC # \"Support vector classifier\"\n",
    "classifierfour = Pipeline([('tfidf',TfidfVectorizer(ngram_range=(1,2),max_features= 25000)),('clf',SVC(kernel='linear',probability=True))])\n",
    "classifierfour.fit(X_train,y_train)\n",
    "\n",
    "Svmpred = classifierfour.predict(X_test)\n",
    "print(classification_report(y_test,Svmpred))"
   ]
  },
  {
   "cell_type": "code",
   "execution_count": 18,
   "id": "bc010ec3",
   "metadata": {},
   "outputs": [],
   "source": [
    "filename3 = 'finalized_modelSVM2.sav'\n",
    "pickle.dump(classifierfour, open(filename3, 'wb'))"
   ]
  },
  {
   "cell_type": "code",
   "execution_count": 19,
   "id": "8c0c1777",
   "metadata": {},
   "outputs": [
    {
     "data": {
      "text/plain": [
       "0.9400272041548163"
      ]
     },
     "execution_count": 19,
     "metadata": {},
     "output_type": "execute_result"
    }
   ],
   "source": [
    "metrics.accuracy_score(y_test,Svmpred)"
   ]
  },
  {
   "cell_type": "code",
   "execution_count": 20,
   "id": "29fe18d2",
   "metadata": {},
   "outputs": [
    {
     "data": {
      "text/plain": [
       "(array([0.5, 1.5]), <a list of 2 Text yticklabel objects>)"
      ]
     },
     "execution_count": 20,
     "metadata": {},
     "output_type": "execute_result"
    },
    {
     "data": {
      "image/png": "[encoded data removed]",
      "text/plain": [
       "<Figure size 432x288 with 1 Axes>"
      ]
     },
     "metadata": {
      "needs_background": "light"
     },
     "output_type": "display_data"
    }
   ],
   "source": [
    "classes = np.unique(y_test)\n",
    "y_test_array3 = pd.get_dummies(y_test, drop_first=False).values\n",
    "\n",
    "\n",
    "cm = metrics.confusion_matrix(y_test, Svmpred)\n",
    "fig, ax = plt.subplots()\n",
    "sns.heatmap(cm, annot=True, fmt='d', ax=ax, cmap=plt.cm.Blues, \n",
    "            cbar=False)\n",
    "ax.set(xlabel=\"Predictions\", ylabel=\"True\", xticklabels=classes, \n",
    "       yticklabels=classes, title=\"Confusion matrix\")\n",
    "plt.yticks(rotation=0)\n"
   ]
  },
  {
   "cell_type": "code",
   "execution_count": 21,
   "id": "ce9051f2",
   "metadata": {},
   "outputs": [
    {
     "data": {
      "image/png": "[encoded data removed]",
      "text/plain": [
       "<Figure size 432x288 with 1 Axes>"
      ]
     },
     "metadata": {
      "needs_background": "light"
     },
     "output_type": "display_data"
    }
   ],
   "source": [
    "predicted_prob3 = classifierfour.predict_proba(X_test)\n",
    "\n",
    "for i in range(len(classes)):\n",
    "    fpr3, tpr3, thresholds3 = metrics.roc_curve(y_test_array3[:,i],  \n",
    "                           predicted_prob3[:,i])\n",
    "  \n",
    "roc_auc3 = metrics.auc(fpr3, tpr3)\n",
    "\n",
    "plt.title('ROC Curve')\n",
    "plt.plot(fpr, tpr, 'b', label = 'LR AUC = %0.2f' % roc_auc)\n",
    "plt.plot(fpr2, tpr2, 'c', label = 'NB AUC = %0.2f' % roc_auc2)\n",
    "plt.plot(fpr3, tpr3, 'c',color='red', label = 'SVC AUC = %0.2f' % roc_auc3)\n",
    "plt.legend(loc = 'lower right')\n",
    "plt.plot([0, 1], [0, 1],'r--')\n",
    "plt.xlim([0, 1])\n",
    "plt.ylim([0, 1])\n",
    "plt.ylabel('True Positive Rate')\n",
    "plt.xlabel('False Positive Rate')\n",
    "plt.show()"
   ]
  },
  {
   "cell_type": "code",
   "execution_count": null,
   "id": "2afd8539",
   "metadata": {},
   "outputs": [],
   "source": []
  },
  {
   "cell_type": "code",
   "execution_count": null,
   "id": "06dc3d64",
   "metadata": {},
   "outputs": [],
   "source": []
  },
  {
   "cell_type": "code",
   "execution_count": 22,
   "id": "69931e6f",
   "metadata": {},
   "outputs": [
    {
     "name": "stdout",
     "output_type": "stream",
     "text": [
      "              precision    recall  f1-score   support\n",
      "\n",
      "        FAKE       0.77      0.79      0.78      4016\n",
      "        REAL       0.78      0.77      0.78      4071\n",
      "\n",
      "    accuracy                           0.78      8087\n",
      "   macro avg       0.78      0.78      0.78      8087\n",
      "weighted avg       0.78      0.78      0.78      8087\n",
      "\n",
      "CPU times: user 44.1 s, sys: 893 ms, total: 45 s\n",
      "Wall time: 50.1 s\n"
     ]
    }
   ],
   "source": [
    "%%time\n",
    "from sklearn.tree import DecisionTreeClassifier\n",
    "classifierfive = Pipeline([('tfidf',TfidfVectorizer(ngram_range=(1,2),max_features= 25000)),('clf',DecisionTreeClassifier())])\n",
    "classifierfive.fit(X_train,y_train)\n",
    "\n",
    "Dtpred = classifierfive.predict(X_test)\n",
    "print(classification_report(y_test,Dtpred))"
   ]
  },
  {
   "cell_type": "code",
   "execution_count": 23,
   "id": "18e58c83",
   "metadata": {},
   "outputs": [
    {
     "data": {
      "text/plain": [
       "0.7787807592432299"
      ]
     },
     "execution_count": 23,
     "metadata": {},
     "output_type": "execute_result"
    }
   ],
   "source": [
    "metrics.accuracy_score(y_test,Dtpred)\n",
    "\n"
   ]
  },
  {
   "cell_type": "code",
   "execution_count": 24,
   "id": "06286f93",
   "metadata": {},
   "outputs": [
    {
     "data": {
      "text/plain": [
       "(array([0.5, 1.5]), <a list of 2 Text yticklabel objects>)"
      ]
     },
     "execution_count": 24,
     "metadata": {},
     "output_type": "execute_result"
    },
    {
     "data": {
      "image/png": "[encoded data removed]",
      "text/plain": [
       "<Figure size 432x288 with 1 Axes>"
      ]
     },
     "metadata": {
      "needs_background": "light"
     },
     "output_type": "display_data"
    }
   ],
   "source": [
    "classes = np.unique(y_test)\n",
    "y_test_array4 = pd.get_dummies(y_test, drop_first=False).values\n",
    "\n",
    "\n",
    "cm = metrics.confusion_matrix(y_test, Dtpred)\n",
    "fig, ax = plt.subplots()\n",
    "sns.heatmap(cm, annot=True, fmt='d', ax=ax, cmap=plt.cm.Blues, \n",
    "            cbar=False)\n",
    "ax.set(xlabel=\"Predictions\", ylabel=\"True\", xticklabels=classes, \n",
    "       yticklabels=classes, title=\"Confusion matrix\")\n",
    "plt.yticks(rotation=0)\n"
   ]
  },
  {
   "cell_type": "code",
   "execution_count": 25,
   "id": "a3d4a2c1",
   "metadata": {},
   "outputs": [
    {
     "data": {
      "image/png": "[encoded data removed]",
      "text/plain": [
       "<Figure size 432x288 with 1 Axes>"
      ]
     },
     "metadata": {
      "needs_background": "light"
     },
     "output_type": "display_data"
    }
   ],
   "source": [
    "predicted_prob4 = classifierfive.predict_proba(X_test)\n",
    "\n",
    "for i in range(len(classes)):\n",
    "    fpr4, tpr4, thresholds4 = metrics.roc_curve(y_test_array4[:,i],  \n",
    "                           predicted_prob4[:,i])\n",
    "  \n",
    "roc_auc4 = metrics.auc(fpr4, tpr4)\n",
    "\n",
    "plt.title('ROC Curve')\n",
    "plt.plot(fpr, tpr, 'b', label = 'LR AUC = %0.2f' % roc_auc)\n",
    "plt.plot(fpr2, tpr2, 'c', label = 'NB AUC = %0.2f' % roc_auc2)\n",
    "plt.plot(fpr3, tpr3, 'c',color='red', label = 'SVC AUC = %0.2f' % roc_auc3)\n",
    "plt.plot(fpr4, tpr4, 'c',color='brown', label = 'DT AUC = %0.2f' % roc_auc4)\n",
    "plt.legend(loc = 'lower right')\n",
    "plt.plot([0, 1], [0, 1],'r--')\n",
    "plt.xlim([0, 1])\n",
    "plt.ylim([0, 1])\n",
    "plt.ylabel('True Positive Rate')\n",
    "plt.xlabel('False Positive Rate')\n",
    "plt.show()"
   ]
  },
  {
   "cell_type": "code",
   "execution_count": null,
   "id": "af2cf73d",
   "metadata": {},
   "outputs": [],
   "source": []
  },
  {
   "cell_type": "code",
   "execution_count": null,
   "id": "d7d0d26e",
   "metadata": {},
   "outputs": [],
   "source": []
  },
  {
   "cell_type": "code",
   "execution_count": 26,
   "id": "ea1adfee",
   "metadata": {},
   "outputs": [
    {
     "name": "stdout",
     "output_type": "stream",
     "text": [
      "              precision    recall  f1-score   support\n",
      "\n",
      "        FAKE       0.60      0.98      0.74      4016\n",
      "        REAL       0.95      0.35      0.52      4071\n",
      "\n",
      "    accuracy                           0.67      8087\n",
      "   macro avg       0.77      0.67      0.63      8087\n",
      "weighted avg       0.77      0.67      0.63      8087\n",
      "\n",
      "CPU times: user 26.8 s, sys: 4.78 s, total: 31.6 s\n",
      "Wall time: 33.5 s\n"
     ]
    }
   ],
   "source": [
    "%%time\n",
    "from sklearn.neighbors import KNeighborsClassifier\n",
    "classifiersix = Pipeline([('tfidf',TfidfVectorizer(ngram_range=(1,2),max_features= 25000)),('clf',KNeighborsClassifier(n_neighbors=5))])\n",
    "classifiersix.fit(X_train,y_train)\n",
    "\n",
    "Knpred = classifiersix.predict(X_test)\n",
    "print(classification_report(y_test,Knpred))"
   ]
  },
  {
   "cell_type": "code",
   "execution_count": 27,
   "id": "d8e2a38a",
   "metadata": {},
   "outputs": [
    {
     "data": {
      "text/plain": [
       "0.665017930011129"
      ]
     },
     "execution_count": 27,
     "metadata": {},
     "output_type": "execute_result"
    }
   ],
   "source": [
    "metrics.accuracy_score(y_test,Knpred)"
   ]
  },
  {
   "cell_type": "code",
   "execution_count": 28,
   "id": "8267d8c5",
   "metadata": {},
   "outputs": [
    {
     "data": {
      "text/plain": [
       "(array([0.5, 1.5]), <a list of 2 Text yticklabel objects>)"
      ]
     },
     "execution_count": 28,
     "metadata": {},
     "output_type": "execute_result"
    },
    {
     "data": {
      "image/png": "[encoded data removed]",
      "text/plain": [
       "<Figure size 432x288 with 1 Axes>"
      ]
     },
     "metadata": {
      "needs_background": "light"
     },
     "output_type": "display_data"
    }
   ],
   "source": [
    "classes = np.unique(y_test)\n",
    "y_test_array5 = pd.get_dummies(y_test, drop_first=False).values\n",
    "\n",
    "\n",
    "cm = metrics.confusion_matrix(y_test, Knpred)\n",
    "fig, ax = plt.subplots()\n",
    "sns.heatmap(cm, annot=True, fmt='d', ax=ax, cmap=plt.cm.Blues, \n",
    "            cbar=False)\n",
    "ax.set(xlabel=\"Predictions\", ylabel=\"True\", xticklabels=classes, \n",
    "       yticklabels=classes, title=\"Confusion matrix\")\n",
    "plt.yticks(rotation=0)\n"
   ]
  },
  {
   "cell_type": "code",
   "execution_count": 29,
   "id": "27ab6c95",
   "metadata": {},
   "outputs": [
    {
     "data": {
      "image/png": "[encoded data removed]",
      "text/plain": [
       "<Figure size 432x288 with 1 Axes>"
      ]
     },
     "metadata": {
      "needs_background": "light"
     },
     "output_type": "display_data"
    }
   ],
   "source": [
    "predicted_prob5 = classifiersix.predict_proba(X_test)\n",
    "\n",
    "for i in range(len(classes)):\n",
    "    fpr5, tpr5, thresholds5 = metrics.roc_curve(y_test_array5[:,i],  \n",
    "                           predicted_prob5[:,i])\n",
    "  \n",
    "roc_auc5 = metrics.auc(fpr5, tpr5)\n",
    "\n",
    "plt.title('ROC Curve')\n",
    "plt.plot(fpr, tpr, 'b', label = 'LR AUC = %0.2f' % roc_auc)\n",
    "plt.plot(fpr2, tpr2, 'c', label = 'NB AUC = %0.2f' % roc_auc2)\n",
    "plt.plot(fpr3, tpr3, 'c',color='red', label = 'SVC AUC = %0.2f' % roc_auc3)\n",
    "plt.plot(fpr4, tpr4, 'c',color='brown', label = 'DT AUC = %0.2f' % roc_auc4)\n",
    "plt.plot(fpr5, tpr5, 'c',color='orange', label = 'KNN AUC = %0.2f' % roc_auc5)\n",
    "plt.legend(loc = 'lower right')\n",
    "plt.plot([0, 1], [0, 1],'r--')\n",
    "plt.xlim([0, 1])\n",
    "plt.ylim([0, 1])\n",
    "plt.ylabel('True Positive Rate')\n",
    "plt.xlabel('False Positive Rate')\n",
    "plt.show()"
   ]
  },
  {
   "cell_type": "code",
   "execution_count": 30,
   "id": "05d38c87",
   "metadata": {},
   "outputs": [
    {
     "data": {
      "text/plain": [
       "['ModelLogisticNew.joblib']"
      ]
     },
     "execution_count": 30,
     "metadata": {},
     "output_type": "execute_result"
    }
   ],
   "source": [
    "\n",
    "\n",
    "\n",
    "\n",
    "dump(classifierOne, filename=\"ModelLogisticNew.joblib\")"
   ]
  },
  {
   "cell_type": "code",
   "execution_count": 31,
   "id": "a329015f",
   "metadata": {},
   "outputs": [
    {
     "data": {
      "text/plain": [
       "['ModelBayesNew.joblib']"
      ]
     },
     "execution_count": 31,
     "metadata": {},
     "output_type": "execute_result"
    }
   ],
   "source": [
    "\n",
    "dump(classifierThree, filename=\"ModelBayesNew.joblib\")"
   ]
  },
  {
   "cell_type": "code",
   "execution_count": 32,
   "id": "d5198330",
   "metadata": {},
   "outputs": [
    {
     "data": {
      "text/plain": [
       "['ModelSVMNew.joblib']"
      ]
     },
     "execution_count": 32,
     "metadata": {},
     "output_type": "execute_result"
    }
   ],
   "source": [
    "\n",
    "dump(classifierfour, filename=\"ModelSVMNew.joblib\")"
   ]
  },
  {
   "cell_type": "code",
   "execution_count": 33,
   "id": "2d743234",
   "metadata": {},
   "outputs": [
    {
     "data": {
      "text/plain": [
       "['ModelDTNew.joblib']"
      ]
     },
     "execution_count": 33,
     "metadata": {},
     "output_type": "execute_result"
    }
   ],
   "source": [
    "\n",
    "dump(classifierfive, filename=\"ModelDTNew.joblib\")"
   ]
  },
  {
   "cell_type": "code",
   "execution_count": null,
   "id": "efec2e7c",
   "metadata": {},
   "outputs": [],
   "source": []
  }
 ],
 "metadata": {
  "kernelspec": {
   "display_name": "Python 3 (ipykernel)",
   "language": "python",
   "name": "python3"
  },
  "language_info": {
   "codemirror_mode": {
    "name": "ipython",
    "version": 3
   },
   "file_extension": ".py",
   "mimetype": "text/x-python",
   "name": "python",
   "nbconvert_exporter": "python",
   "pygments_lexer": "ipython3",
   "version": "3.7.13"
  }
 },
 "nbformat": 4,
 "nbformat_minor": 5
}
